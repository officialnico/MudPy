{
 "cells": [
  {
   "cell_type": "code",
   "execution_count": 1,
   "metadata": {},
   "outputs": [],
   "source": [
    "from cafecosmos import World, Player"
   ]
  },
  {
   "cell_type": "code",
   "execution_count": null,
   "metadata": {},
   "outputs": [],
   "source": [
    "abi_dir = \"./cafecosmos-contracts/abi\"\n",
    "rpc = \"https://rpc.garnetchain.com\"\n",
    "world_address = \"0x0209FE2b6C1a2B8cE12D8d9D6cf2D78a3Ff324FE\"\n",
    "indexer_url = \"https://indexer.mud.garnetchain.com/q\"\n",
    "mud_config_path = \"./cafecosmos-contracts/mud.config.ts\"\n",
    "block_explorer_url = \"https://explorer.garnetchain.com\"\n",
    "\n",
    "\n",
    "cafecosmos = World(rpc, \n",
    "              world_address, \n",
    "              abi_dir, \n",
    "              indexer_url=indexer_url, \n",
    "              mud_config_path=mud_config_path,\n",
    "              block_explorer_url=block_explorer_url)\n",
    "\n",
    "player = Player(env_key_name=\"PLAYER1\", world=cafecosmos)"
   ]
  }
 ],
 "metadata": {
  "kernelspec": {
   "display_name": "woww",
   "language": "python",
   "name": "python3"
  },
  "language_info": {
   "codemirror_mode": {
    "name": "ipython",
    "version": 3
   },
   "file_extension": ".py",
   "mimetype": "text/x-python",
   "name": "python",
   "nbconvert_exporter": "python",
   "pygments_lexer": "ipython3",
   "version": "3.9.6"
  }
 },
 "nbformat": 4,
 "nbformat_minor": 2
}
