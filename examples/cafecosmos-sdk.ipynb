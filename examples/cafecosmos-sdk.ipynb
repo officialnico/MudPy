{
 "cells": [
  {
   "cell_type": "code",
   "execution_count": 6,
   "metadata": {},
   "outputs": [],
   "source": [
    "from cafecosmos import World, Player"
   ]
  },
  {
   "cell_type": "code",
   "execution_count": 2,
   "metadata": {},
   "outputs": [],
   "source": [
    "abi_dir = \"./cafecosmos-contracts/abi\"\n",
    "rpc = \"https://rpc.garnetchain.com\"\n",
    "world_address = \"0x0209FE2b6C1a2B8cE12D8d9D6cf2D78a3Ff324FE\"\n",
    "indexer_url = \"https://indexer.mud.garnetchain.com/q\"\n",
    "mud_config_path = \"./cafecosmos-contracts/mud.config.ts\"\n",
    "block_explorer_url = \"https://explorer.garnetchain.com\"\n",
    "\n",
    "\n",
    "cafecosmos = World(rpc, \n",
    "              world_address, \n",
    "              abi_dir, \n",
    "              indexer_url=indexer_url, \n",
    "              mud_config_path=mud_config_path,\n",
    "              block_explorer_url=block_explorer_url)\n",
    "\n",
    "player = Player(env_key_name=\"PLAYER1\", world=cafecosmos, land_id=5)"
   ]
  },
  {
   "cell_type": "code",
   "execution_count": 7,
   "metadata": {},
   "outputs": [
    {
     "data": {
      "text/plain": [
       "5"
      ]
     },
     "execution_count": 7,
     "metadata": {},
     "output_type": "execute_result"
    }
   ],
   "source": [
    "player.display_land()\n",
    "player.land_id"
   ]
  },
  {
   "cell_type": "code",
   "execution_count": 4,
   "metadata": {},
   "outputs": [
    {
     "data": {
      "text/html": [
       "<table border=\"1\" class=\"dataframe\">\n",
       "  <thead>\n",
       "    <tr style=\"text-align: right;\">\n",
       "      <th>Icon</th>\n",
       "      <th>Item Name</th>\n",
       "      <th>Quantity</th>\n",
       "    </tr>\n",
       "  </thead>\n",
       "  <tbody>\n",
       "    <tr>\n",
       "      <td><img src=\"./cafecosmos-contracts/icons/avocado.png\" width=\"50\"/></td>\n",
       "      <td>Avocado</td>\n",
       "      <td>8</td>\n",
       "    </tr>\n",
       "    <tr>\n",
       "      <td><img src=\"./cafecosmos-contracts/icons/bananas.png\" width=\"50\"/></td>\n",
       "      <td>Bananas</td>\n",
       "      <td>99</td>\n",
       "    </tr>\n",
       "    <tr>\n",
       "      <td><img src=\"./cafecosmos-contracts/icons/coffee.png\" width=\"50\"/></td>\n",
       "      <td>Coffee</td>\n",
       "      <td>3</td>\n",
       "    </tr>\n",
       "    <tr>\n",
       "      <td><img src=\"./cafecosmos-contracts/icons/egg.png\" width=\"50\"/></td>\n",
       "      <td>Egg</td>\n",
       "      <td>26</td>\n",
       "    </tr>\n",
       "    <tr>\n",
       "      <td><img src=\"./cafecosmos-contracts/icons/raspberry.png\" width=\"50\"/></td>\n",
       "      <td>Raspberry</td>\n",
       "      <td>39</td>\n",
       "    </tr>\n",
       "    <tr>\n",
       "      <td><img src=\"./cafecosmos-contracts/icons/sugar.png\" width=\"50\"/></td>\n",
       "      <td>Sugar</td>\n",
       "      <td>18</td>\n",
       "    </tr>\n",
       "    <tr>\n",
       "      <td><img src=\"./cafecosmos-contracts/icons/olives.png\" width=\"50\"/></td>\n",
       "      <td>Olives</td>\n",
       "      <td>14</td>\n",
       "    </tr>\n",
       "    <tr>\n",
       "      <td><img src=\"./cafecosmos-contracts/icons/bismuth.png\" width=\"50\"/></td>\n",
       "      <td>Bismuth</td>\n",
       "      <td>32</td>\n",
       "    </tr>\n",
       "    <tr>\n",
       "      <td><img src=\"./cafecosmos-contracts/icons/crystal.png\" width=\"50\"/></td>\n",
       "      <td>Crystal</td>\n",
       "      <td>144</td>\n",
       "    </tr>\n",
       "    <tr>\n",
       "      <td><img src=\"./cafecosmos-contracts/icons/clay.png\" width=\"50\"/></td>\n",
       "      <td>Clay</td>\n",
       "      <td>32</td>\n",
       "    </tr>\n",
       "    <tr>\n",
       "      <td><img src=\"./cafecosmos-contracts/icons/sticks.png\" width=\"50\"/></td>\n",
       "      <td>Sticks</td>\n",
       "      <td>155</td>\n",
       "    </tr>\n",
       "    <tr>\n",
       "      <td><img src=\"./cafecosmos-contracts/icons/wood_purple.png\" width=\"50\"/></td>\n",
       "      <td>Purple Wood</td>\n",
       "      <td>15</td>\n",
       "    </tr>\n",
       "    <tr>\n",
       "      <td><img src=\"./cafecosmos-contracts/icons/wood_pink.png\" width=\"50\"/></td>\n",
       "      <td>Pink Wood</td>\n",
       "      <td>132</td>\n",
       "    </tr>\n",
       "    <tr>\n",
       "      <td><img src=\"./cafecosmos-contracts/icons/lettuce_seed.png\" width=\"50\"/></td>\n",
       "      <td>Lettuce Seed</td>\n",
       "      <td>48</td>\n",
       "    </tr>\n",
       "    <tr>\n",
       "      <td><img src=\"./cafecosmos-contracts/icons/tomato_seed.png\" width=\"50\"/></td>\n",
       "      <td>Tomato Seed</td>\n",
       "      <td>31</td>\n",
       "    </tr>\n",
       "    <tr>\n",
       "      <td><img src=\"./cafecosmos-contracts/icons/wheat_seed.png\" width=\"50\"/></td>\n",
       "      <td>Wheat Seed</td>\n",
       "      <td>64</td>\n",
       "    </tr>\n",
       "    <tr>\n",
       "      <td><img src=\"./cafecosmos-contracts/icons/green_chair.png\" width=\"50\"/></td>\n",
       "      <td>Green Chair</td>\n",
       "      <td>1</td>\n",
       "    </tr>\n",
       "    <tr>\n",
       "      <td><img src=\"./cafecosmos-contracts/icons/green_table.png\" width=\"50\"/></td>\n",
       "      <td>Green Table</td>\n",
       "      <td>1</td>\n",
       "    </tr>\n",
       "    <tr>\n",
       "      <td><img src=\"./cafecosmos-contracts/icons/plant.png\" width=\"50\"/></td>\n",
       "      <td>Plant</td>\n",
       "      <td>1</td>\n",
       "    </tr>\n",
       "    <tr>\n",
       "      <td><img src=\"./cafecosmos-contracts/icons/fence.png\" width=\"50\"/></td>\n",
       "      <td>Fence</td>\n",
       "      <td>1</td>\n",
       "    </tr>\n",
       "    <tr>\n",
       "      <td><img src=\"./cafecosmos-contracts/icons/purple_floor.png\" width=\"50\"/></td>\n",
       "      <td>Purple Floor</td>\n",
       "      <td>4</td>\n",
       "    </tr>\n",
       "    <tr>\n",
       "      <td><img src=\"./cafecosmos-contracts/icons/wall.png\" width=\"50\"/></td>\n",
       "      <td>Wall</td>\n",
       "      <td>24</td>\n",
       "    </tr>\n",
       "    <tr>\n",
       "      <td><img src=\"./cafecosmos-contracts/icons/scythe.png\" width=\"50\"/></td>\n",
       "      <td>Scythe</td>\n",
       "      <td>1</td>\n",
       "    </tr>\n",
       "    <tr>\n",
       "      <td><img src=\"./cafecosmos-contracts/icons/pickaxe.png\" width=\"50\"/></td>\n",
       "      <td>Pickaxe</td>\n",
       "      <td>1</td>\n",
       "    </tr>\n",
       "    <tr>\n",
       "      <td><img src=\"./cafecosmos-contracts/icons/axe.png\" width=\"50\"/></td>\n",
       "      <td>Axe</td>\n",
       "      <td>1</td>\n",
       "    </tr>\n",
       "    <tr>\n",
       "      <td><img src=\"./cafecosmos-contracts/icons/hoe.png\" width=\"50\"/></td>\n",
       "      <td>Hoe</td>\n",
       "      <td>1</td>\n",
       "    </tr>\n",
       "    <tr>\n",
       "      <td><img src=\"./cafecosmos-contracts/icons/planet_sign.png\" width=\"50\"/></td>\n",
       "      <td>Planet Sign</td>\n",
       "      <td>1</td>\n",
       "    </tr>\n",
       "    <tr>\n",
       "      <td><img src=\"./cafecosmos-contracts/icons/window.png\" width=\"50\"/></td>\n",
       "      <td>Window</td>\n",
       "      <td>1</td>\n",
       "    </tr>\n",
       "    <tr>\n",
       "      <td><img src=\"./cafecosmos-contracts/icons/menu.png\" width=\"50\"/></td>\n",
       "      <td>Wall Menu</td>\n",
       "      <td>1</td>\n",
       "    </tr>\n",
       "    <tr>\n",
       "      <td><img src=\"./cafecosmos-contracts/icons/coffee_bean.png\" width=\"50\"/></td>\n",
       "      <td>Coffee Bean</td>\n",
       "      <td>45</td>\n",
       "    </tr>\n",
       "    <tr>\n",
       "      <td><img src=\"./cafecosmos-contracts/icons/watering_can_full.png\" width=\"50\"/></td>\n",
       "      <td>Watering Can Full</td>\n",
       "      <td>1</td>\n",
       "    </tr>\n",
       "  </tbody>\n",
       "</table>"
      ],
      "text/plain": [
       "<IPython.core.display.HTML object>"
      ]
     },
     "execution_count": 4,
     "metadata": {},
     "output_type": "execute_result"
    }
   ],
   "source": [
    "player.display_inventory()"
   ]
  },
  {
   "cell_type": "code",
   "execution_count": 5,
   "metadata": {},
   "outputs": [
    {
     "name": "stdout",
     "output_type": "stream",
     "text": [
      "Transaction sent. TX:https://explorer.garnetchain.com/tx/0xc5771f76a1bc51358b01699c7336115dfc16bc1000a111ea2e829e203f0d6fc0\n"
     ]
    }
   ],
   "source": [
    "player.place_item(3, 4, \"Purple Floor\")"
   ]
  },
  {
   "cell_type": "code",
   "execution_count": null,
   "metadata": {},
   "outputs": [],
   "source": []
  }
 ],
 "metadata": {
  "kernelspec": {
   "display_name": "woww",
   "language": "python",
   "name": "python3"
  },
  "language_info": {
   "codemirror_mode": {
    "name": "ipython",
    "version": 3
   },
   "file_extension": ".py",
   "mimetype": "text/x-python",
   "name": "python",
   "nbconvert_exporter": "python",
   "pygments_lexer": "ipython3",
   "version": "3.9.6"
  }
 },
 "nbformat": 4,
 "nbformat_minor": 2
}
